{
  "nbformat": 4,
  "nbformat_minor": 0,
  "metadata": {
    "colab": {
      "provenance": [],
      "gpuType": "T4",
      "toc_visible": true,
      "authorship_tag": "ABX9TyPha6qzSGHXvj3mG/DIa4My",
      "include_colab_link": true
    },
    "kernelspec": {
      "name": "python3",
      "display_name": "Python 3"
    },
    "language_info": {
      "name": "python"
    },
    "accelerator": "GPU"
  },
  "cells": [
    {
      "cell_type": "markdown",
      "metadata": {
        "id": "view-in-github",
        "colab_type": "text"
      },
      "source": [
        "<a href=\"https://colab.research.google.com/github/krishna4003/Face-mask-detection-/blob/main/Face_Mask_detection_project_Using_deep_learning.ipynb\" target=\"_parent\"><img src=\"https://colab.research.google.com/assets/colab-badge.svg\" alt=\"Open In Colab\"/></a>"
      ]
    },
    {
      "cell_type": "code",
      "execution_count": null,
      "metadata": {
        "id": "1DlEDBqV8SVY",
        "colab": {
          "base_uri": "https://localhost:8080/"
        },
        "outputId": "6cb5b148-db15-4f0c-e7ef-cc845cf09c38"
      },
      "outputs": [
        {
          "output_type": "stream",
          "name": "stdout",
          "text": [
            "cp: cannot stat 'kaggle.json': No such file or directory\n",
            "chmod: cannot access '/root/.kaggle/kaggle.json': No such file or directory\n"
          ]
        }
      ],
      "source": [
        "#Configuring the path of kaggle.json file\n",
        "! mkdir ~/.kaggle\n",
        "! cp kaggle.json ~/.kaggle/\n",
        "! chmod 600 ~/.kaggle/kaggle.json\n"
      ]
    },
    {
      "cell_type": "markdown",
      "source": [
        "Importing Face Mask Dataset"
      ],
      "metadata": {
        "id": "og1DawwF8-LV"
      }
    },
    {
      "cell_type": "code",
      "source": [
        "#API to fetch dataset from Kaggle\n",
        "! kaggle datasets download -d omkargurav/face-mask-dataset"
      ],
      "metadata": {
        "colab": {
          "base_uri": "https://localhost:8080/"
        },
        "id": "5z_CokEJ8bli",
        "outputId": "1db53513-25c5-43eb-8633-57d6efa96c78"
      },
      "execution_count": null,
      "outputs": [
        {
          "output_type": "stream",
          "name": "stdout",
          "text": [
            "Dataset URL: https://www.kaggle.com/datasets/omkargurav/face-mask-dataset\n",
            "License(s): unknown\n",
            "Downloading face-mask-dataset.zip to /content\n",
            "100% 163M/163M [00:02<00:00, 66.5MB/s]\n",
            "100% 163M/163M [00:02<00:00, 71.2MB/s]\n"
          ]
        }
      ]
    },
    {
      "cell_type": "code",
      "source": [
        "#Extracting the compressed dataset\n",
        "#Import the ZipFile Class\n",
        "from zipfile import ZipFile\n",
        "#Path to the ZIP file\n",
        "dataset='/content/face-mask-dataset.zip'\n",
        "## Open the ZIP file in read mode\n",
        "with ZipFile(dataset, 'r') as zip:\n",
        "  # Extract all the contents of the ZIP file to the current directory\n",
        "  zip.extractall()\n",
        "  ## Print a message indicating that extraction is complete\n",
        "  print('the dataset is extracted')"
      ],
      "metadata": {
        "colab": {
          "base_uri": "https://localhost:8080/"
        },
        "id": "hno5yK1y80V3",
        "outputId": "fac52c8d-0248-4da5-a0e0-3572c8d84750"
      },
      "execution_count": null,
      "outputs": [
        {
          "output_type": "stream",
          "name": "stdout",
          "text": [
            "the dataset is extracted\n"
          ]
        }
      ]
    },
    {
      "cell_type": "code",
      "source": [
        "import tensorflow\n",
        "from tensorflow import keras\n",
        "from tensorflow.keras import layers, models\n",
        "from keras.applications.vgg16 import VGG16\n",
        "from keras.applications.vgg16 import preprocess_input"
      ],
      "metadata": {
        "id": "cQVY-JaqgpYV"
      },
      "execution_count": null,
      "outputs": []
    },
    {
      "cell_type": "code",
      "source": [
        "conv_base=VGG16(weights='imagenet',\n",
        "                include_top='False',\n",
        "                input_shape=(224,224,3)\n",
        "                )\n"
      ],
      "metadata": {
        "colab": {
          "base_uri": "https://localhost:8080/"
        },
        "id": "Co_E9hBAgtxZ",
        "outputId": "85631e29-8781-4759-8119-9c6d9e371312"
      },
      "execution_count": null,
      "outputs": [
        {
          "output_type": "stream",
          "name": "stdout",
          "text": [
            "Downloading data from https://storage.googleapis.com/tensorflow/keras-applications/vgg16/vgg16_weights_tf_dim_ordering_tf_kernels.h5\n",
            "\u001b[1m553467096/553467096\u001b[0m \u001b[32m━━━━━━━━━━━━━━━━━━━━\u001b[0m\u001b[37m\u001b[0m \u001b[1m6s\u001b[0m 0us/step\n"
          ]
        }
      ]
    },
    {
      "cell_type": "code",
      "source": [
        "conv_base.summary()"
      ],
      "metadata": {
        "colab": {
          "base_uri": "https://localhost:8080/",
          "height": 892
        },
        "id": "wgBAuI0wg0Fm",
        "outputId": "eadab8be-a490-4188-c03c-5207992702ed"
      },
      "execution_count": null,
      "outputs": [
        {
          "output_type": "display_data",
          "data": {
            "text/plain": [
              "\u001b[1mModel: \"vgg16\"\u001b[0m\n"
            ],
            "text/html": [
              "<pre style=\"white-space:pre;overflow-x:auto;line-height:normal;font-family:Menlo,'DejaVu Sans Mono',consolas,'Courier New',monospace\"><span style=\"font-weight: bold\">Model: \"vgg16\"</span>\n",
              "</pre>\n"
            ]
          },
          "metadata": {}
        },
        {
          "output_type": "display_data",
          "data": {
            "text/plain": [
              "┏━━━━━━━━━━━━━━━━━━━━━━━━━━━━━━━━━━━━━━┳━━━━━━━━━━━━━━━━━━━━━━━━━━━━━┳━━━━━━━━━━━━━━━━━┓\n",
              "┃\u001b[1m \u001b[0m\u001b[1mLayer (type)                        \u001b[0m\u001b[1m \u001b[0m┃\u001b[1m \u001b[0m\u001b[1mOutput Shape               \u001b[0m\u001b[1m \u001b[0m┃\u001b[1m \u001b[0m\u001b[1m        Param #\u001b[0m\u001b[1m \u001b[0m┃\n",
              "┡━━━━━━━━━━━━━━━━━━━━━━━━━━━━━━━━━━━━━━╇━━━━━━━━━━━━━━━━━━━━━━━━━━━━━╇━━━━━━━━━━━━━━━━━┩\n",
              "│ input_layer (\u001b[38;5;33mInputLayer\u001b[0m)             │ (\u001b[38;5;45mNone\u001b[0m, \u001b[38;5;34m224\u001b[0m, \u001b[38;5;34m224\u001b[0m, \u001b[38;5;34m3\u001b[0m)         │               \u001b[38;5;34m0\u001b[0m │\n",
              "├──────────────────────────────────────┼─────────────────────────────┼─────────────────┤\n",
              "│ block1_conv1 (\u001b[38;5;33mConv2D\u001b[0m)                │ (\u001b[38;5;45mNone\u001b[0m, \u001b[38;5;34m224\u001b[0m, \u001b[38;5;34m224\u001b[0m, \u001b[38;5;34m64\u001b[0m)        │           \u001b[38;5;34m1,792\u001b[0m │\n",
              "├──────────────────────────────────────┼─────────────────────────────┼─────────────────┤\n",
              "│ block1_conv2 (\u001b[38;5;33mConv2D\u001b[0m)                │ (\u001b[38;5;45mNone\u001b[0m, \u001b[38;5;34m224\u001b[0m, \u001b[38;5;34m224\u001b[0m, \u001b[38;5;34m64\u001b[0m)        │          \u001b[38;5;34m36,928\u001b[0m │\n",
              "├──────────────────────────────────────┼─────────────────────────────┼─────────────────┤\n",
              "│ block1_pool (\u001b[38;5;33mMaxPooling2D\u001b[0m)           │ (\u001b[38;5;45mNone\u001b[0m, \u001b[38;5;34m112\u001b[0m, \u001b[38;5;34m112\u001b[0m, \u001b[38;5;34m64\u001b[0m)        │               \u001b[38;5;34m0\u001b[0m │\n",
              "├──────────────────────────────────────┼─────────────────────────────┼─────────────────┤\n",
              "│ block2_conv1 (\u001b[38;5;33mConv2D\u001b[0m)                │ (\u001b[38;5;45mNone\u001b[0m, \u001b[38;5;34m112\u001b[0m, \u001b[38;5;34m112\u001b[0m, \u001b[38;5;34m128\u001b[0m)       │          \u001b[38;5;34m73,856\u001b[0m │\n",
              "├──────────────────────────────────────┼─────────────────────────────┼─────────────────┤\n",
              "│ block2_conv2 (\u001b[38;5;33mConv2D\u001b[0m)                │ (\u001b[38;5;45mNone\u001b[0m, \u001b[38;5;34m112\u001b[0m, \u001b[38;5;34m112\u001b[0m, \u001b[38;5;34m128\u001b[0m)       │         \u001b[38;5;34m147,584\u001b[0m │\n",
              "├──────────────────────────────────────┼─────────────────────────────┼─────────────────┤\n",
              "│ block2_pool (\u001b[38;5;33mMaxPooling2D\u001b[0m)           │ (\u001b[38;5;45mNone\u001b[0m, \u001b[38;5;34m56\u001b[0m, \u001b[38;5;34m56\u001b[0m, \u001b[38;5;34m128\u001b[0m)         │               \u001b[38;5;34m0\u001b[0m │\n",
              "├──────────────────────────────────────┼─────────────────────────────┼─────────────────┤\n",
              "│ block3_conv1 (\u001b[38;5;33mConv2D\u001b[0m)                │ (\u001b[38;5;45mNone\u001b[0m, \u001b[38;5;34m56\u001b[0m, \u001b[38;5;34m56\u001b[0m, \u001b[38;5;34m256\u001b[0m)         │         \u001b[38;5;34m295,168\u001b[0m │\n",
              "├──────────────────────────────────────┼─────────────────────────────┼─────────────────┤\n",
              "│ block3_conv2 (\u001b[38;5;33mConv2D\u001b[0m)                │ (\u001b[38;5;45mNone\u001b[0m, \u001b[38;5;34m56\u001b[0m, \u001b[38;5;34m56\u001b[0m, \u001b[38;5;34m256\u001b[0m)         │         \u001b[38;5;34m590,080\u001b[0m │\n",
              "├──────────────────────────────────────┼─────────────────────────────┼─────────────────┤\n",
              "│ block3_conv3 (\u001b[38;5;33mConv2D\u001b[0m)                │ (\u001b[38;5;45mNone\u001b[0m, \u001b[38;5;34m56\u001b[0m, \u001b[38;5;34m56\u001b[0m, \u001b[38;5;34m256\u001b[0m)         │         \u001b[38;5;34m590,080\u001b[0m │\n",
              "├──────────────────────────────────────┼─────────────────────────────┼─────────────────┤\n",
              "│ block3_pool (\u001b[38;5;33mMaxPooling2D\u001b[0m)           │ (\u001b[38;5;45mNone\u001b[0m, \u001b[38;5;34m28\u001b[0m, \u001b[38;5;34m28\u001b[0m, \u001b[38;5;34m256\u001b[0m)         │               \u001b[38;5;34m0\u001b[0m │\n",
              "├──────────────────────────────────────┼─────────────────────────────┼─────────────────┤\n",
              "│ block4_conv1 (\u001b[38;5;33mConv2D\u001b[0m)                │ (\u001b[38;5;45mNone\u001b[0m, \u001b[38;5;34m28\u001b[0m, \u001b[38;5;34m28\u001b[0m, \u001b[38;5;34m512\u001b[0m)         │       \u001b[38;5;34m1,180,160\u001b[0m │\n",
              "├──────────────────────────────────────┼─────────────────────────────┼─────────────────┤\n",
              "│ block4_conv2 (\u001b[38;5;33mConv2D\u001b[0m)                │ (\u001b[38;5;45mNone\u001b[0m, \u001b[38;5;34m28\u001b[0m, \u001b[38;5;34m28\u001b[0m, \u001b[38;5;34m512\u001b[0m)         │       \u001b[38;5;34m2,359,808\u001b[0m │\n",
              "├──────────────────────────────────────┼─────────────────────────────┼─────────────────┤\n",
              "│ block4_conv3 (\u001b[38;5;33mConv2D\u001b[0m)                │ (\u001b[38;5;45mNone\u001b[0m, \u001b[38;5;34m28\u001b[0m, \u001b[38;5;34m28\u001b[0m, \u001b[38;5;34m512\u001b[0m)         │       \u001b[38;5;34m2,359,808\u001b[0m │\n",
              "├──────────────────────────────────────┼─────────────────────────────┼─────────────────┤\n",
              "│ block4_pool (\u001b[38;5;33mMaxPooling2D\u001b[0m)           │ (\u001b[38;5;45mNone\u001b[0m, \u001b[38;5;34m14\u001b[0m, \u001b[38;5;34m14\u001b[0m, \u001b[38;5;34m512\u001b[0m)         │               \u001b[38;5;34m0\u001b[0m │\n",
              "├──────────────────────────────────────┼─────────────────────────────┼─────────────────┤\n",
              "│ block5_conv1 (\u001b[38;5;33mConv2D\u001b[0m)                │ (\u001b[38;5;45mNone\u001b[0m, \u001b[38;5;34m14\u001b[0m, \u001b[38;5;34m14\u001b[0m, \u001b[38;5;34m512\u001b[0m)         │       \u001b[38;5;34m2,359,808\u001b[0m │\n",
              "├──────────────────────────────────────┼─────────────────────────────┼─────────────────┤\n",
              "│ block5_conv2 (\u001b[38;5;33mConv2D\u001b[0m)                │ (\u001b[38;5;45mNone\u001b[0m, \u001b[38;5;34m14\u001b[0m, \u001b[38;5;34m14\u001b[0m, \u001b[38;5;34m512\u001b[0m)         │       \u001b[38;5;34m2,359,808\u001b[0m │\n",
              "├──────────────────────────────────────┼─────────────────────────────┼─────────────────┤\n",
              "│ block5_conv3 (\u001b[38;5;33mConv2D\u001b[0m)                │ (\u001b[38;5;45mNone\u001b[0m, \u001b[38;5;34m14\u001b[0m, \u001b[38;5;34m14\u001b[0m, \u001b[38;5;34m512\u001b[0m)         │       \u001b[38;5;34m2,359,808\u001b[0m │\n",
              "├──────────────────────────────────────┼─────────────────────────────┼─────────────────┤\n",
              "│ block5_pool (\u001b[38;5;33mMaxPooling2D\u001b[0m)           │ (\u001b[38;5;45mNone\u001b[0m, \u001b[38;5;34m7\u001b[0m, \u001b[38;5;34m7\u001b[0m, \u001b[38;5;34m512\u001b[0m)           │               \u001b[38;5;34m0\u001b[0m │\n",
              "├──────────────────────────────────────┼─────────────────────────────┼─────────────────┤\n",
              "│ flatten (\u001b[38;5;33mFlatten\u001b[0m)                    │ (\u001b[38;5;45mNone\u001b[0m, \u001b[38;5;34m25088\u001b[0m)               │               \u001b[38;5;34m0\u001b[0m │\n",
              "├──────────────────────────────────────┼─────────────────────────────┼─────────────────┤\n",
              "│ fc1 (\u001b[38;5;33mDense\u001b[0m)                          │ (\u001b[38;5;45mNone\u001b[0m, \u001b[38;5;34m4096\u001b[0m)                │     \u001b[38;5;34m102,764,544\u001b[0m │\n",
              "├──────────────────────────────────────┼─────────────────────────────┼─────────────────┤\n",
              "│ fc2 (\u001b[38;5;33mDense\u001b[0m)                          │ (\u001b[38;5;45mNone\u001b[0m, \u001b[38;5;34m4096\u001b[0m)                │      \u001b[38;5;34m16,781,312\u001b[0m │\n",
              "├──────────────────────────────────────┼─────────────────────────────┼─────────────────┤\n",
              "│ predictions (\u001b[38;5;33mDense\u001b[0m)                  │ (\u001b[38;5;45mNone\u001b[0m, \u001b[38;5;34m1000\u001b[0m)                │       \u001b[38;5;34m4,097,000\u001b[0m │\n",
              "└──────────────────────────────────────┴─────────────────────────────┴─────────────────┘\n"
            ],
            "text/html": [
              "<pre style=\"white-space:pre;overflow-x:auto;line-height:normal;font-family:Menlo,'DejaVu Sans Mono',consolas,'Courier New',monospace\">┏━━━━━━━━━━━━━━━━━━━━━━━━━━━━━━━━━━━━━━┳━━━━━━━━━━━━━━━━━━━━━━━━━━━━━┳━━━━━━━━━━━━━━━━━┓\n",
              "┃<span style=\"font-weight: bold\"> Layer (type)                         </span>┃<span style=\"font-weight: bold\"> Output Shape                </span>┃<span style=\"font-weight: bold\">         Param # </span>┃\n",
              "┡━━━━━━━━━━━━━━━━━━━━━━━━━━━━━━━━━━━━━━╇━━━━━━━━━━━━━━━━━━━━━━━━━━━━━╇━━━━━━━━━━━━━━━━━┩\n",
              "│ input_layer (<span style=\"color: #0087ff; text-decoration-color: #0087ff\">InputLayer</span>)             │ (<span style=\"color: #00d7ff; text-decoration-color: #00d7ff\">None</span>, <span style=\"color: #00af00; text-decoration-color: #00af00\">224</span>, <span style=\"color: #00af00; text-decoration-color: #00af00\">224</span>, <span style=\"color: #00af00; text-decoration-color: #00af00\">3</span>)         │               <span style=\"color: #00af00; text-decoration-color: #00af00\">0</span> │\n",
              "├──────────────────────────────────────┼─────────────────────────────┼─────────────────┤\n",
              "│ block1_conv1 (<span style=\"color: #0087ff; text-decoration-color: #0087ff\">Conv2D</span>)                │ (<span style=\"color: #00d7ff; text-decoration-color: #00d7ff\">None</span>, <span style=\"color: #00af00; text-decoration-color: #00af00\">224</span>, <span style=\"color: #00af00; text-decoration-color: #00af00\">224</span>, <span style=\"color: #00af00; text-decoration-color: #00af00\">64</span>)        │           <span style=\"color: #00af00; text-decoration-color: #00af00\">1,792</span> │\n",
              "├──────────────────────────────────────┼─────────────────────────────┼─────────────────┤\n",
              "│ block1_conv2 (<span style=\"color: #0087ff; text-decoration-color: #0087ff\">Conv2D</span>)                │ (<span style=\"color: #00d7ff; text-decoration-color: #00d7ff\">None</span>, <span style=\"color: #00af00; text-decoration-color: #00af00\">224</span>, <span style=\"color: #00af00; text-decoration-color: #00af00\">224</span>, <span style=\"color: #00af00; text-decoration-color: #00af00\">64</span>)        │          <span style=\"color: #00af00; text-decoration-color: #00af00\">36,928</span> │\n",
              "├──────────────────────────────────────┼─────────────────────────────┼─────────────────┤\n",
              "│ block1_pool (<span style=\"color: #0087ff; text-decoration-color: #0087ff\">MaxPooling2D</span>)           │ (<span style=\"color: #00d7ff; text-decoration-color: #00d7ff\">None</span>, <span style=\"color: #00af00; text-decoration-color: #00af00\">112</span>, <span style=\"color: #00af00; text-decoration-color: #00af00\">112</span>, <span style=\"color: #00af00; text-decoration-color: #00af00\">64</span>)        │               <span style=\"color: #00af00; text-decoration-color: #00af00\">0</span> │\n",
              "├──────────────────────────────────────┼─────────────────────────────┼─────────────────┤\n",
              "│ block2_conv1 (<span style=\"color: #0087ff; text-decoration-color: #0087ff\">Conv2D</span>)                │ (<span style=\"color: #00d7ff; text-decoration-color: #00d7ff\">None</span>, <span style=\"color: #00af00; text-decoration-color: #00af00\">112</span>, <span style=\"color: #00af00; text-decoration-color: #00af00\">112</span>, <span style=\"color: #00af00; text-decoration-color: #00af00\">128</span>)       │          <span style=\"color: #00af00; text-decoration-color: #00af00\">73,856</span> │\n",
              "├──────────────────────────────────────┼─────────────────────────────┼─────────────────┤\n",
              "│ block2_conv2 (<span style=\"color: #0087ff; text-decoration-color: #0087ff\">Conv2D</span>)                │ (<span style=\"color: #00d7ff; text-decoration-color: #00d7ff\">None</span>, <span style=\"color: #00af00; text-decoration-color: #00af00\">112</span>, <span style=\"color: #00af00; text-decoration-color: #00af00\">112</span>, <span style=\"color: #00af00; text-decoration-color: #00af00\">128</span>)       │         <span style=\"color: #00af00; text-decoration-color: #00af00\">147,584</span> │\n",
              "├──────────────────────────────────────┼─────────────────────────────┼─────────────────┤\n",
              "│ block2_pool (<span style=\"color: #0087ff; text-decoration-color: #0087ff\">MaxPooling2D</span>)           │ (<span style=\"color: #00d7ff; text-decoration-color: #00d7ff\">None</span>, <span style=\"color: #00af00; text-decoration-color: #00af00\">56</span>, <span style=\"color: #00af00; text-decoration-color: #00af00\">56</span>, <span style=\"color: #00af00; text-decoration-color: #00af00\">128</span>)         │               <span style=\"color: #00af00; text-decoration-color: #00af00\">0</span> │\n",
              "├──────────────────────────────────────┼─────────────────────────────┼─────────────────┤\n",
              "│ block3_conv1 (<span style=\"color: #0087ff; text-decoration-color: #0087ff\">Conv2D</span>)                │ (<span style=\"color: #00d7ff; text-decoration-color: #00d7ff\">None</span>, <span style=\"color: #00af00; text-decoration-color: #00af00\">56</span>, <span style=\"color: #00af00; text-decoration-color: #00af00\">56</span>, <span style=\"color: #00af00; text-decoration-color: #00af00\">256</span>)         │         <span style=\"color: #00af00; text-decoration-color: #00af00\">295,168</span> │\n",
              "├──────────────────────────────────────┼─────────────────────────────┼─────────────────┤\n",
              "│ block3_conv2 (<span style=\"color: #0087ff; text-decoration-color: #0087ff\">Conv2D</span>)                │ (<span style=\"color: #00d7ff; text-decoration-color: #00d7ff\">None</span>, <span style=\"color: #00af00; text-decoration-color: #00af00\">56</span>, <span style=\"color: #00af00; text-decoration-color: #00af00\">56</span>, <span style=\"color: #00af00; text-decoration-color: #00af00\">256</span>)         │         <span style=\"color: #00af00; text-decoration-color: #00af00\">590,080</span> │\n",
              "├──────────────────────────────────────┼─────────────────────────────┼─────────────────┤\n",
              "│ block3_conv3 (<span style=\"color: #0087ff; text-decoration-color: #0087ff\">Conv2D</span>)                │ (<span style=\"color: #00d7ff; text-decoration-color: #00d7ff\">None</span>, <span style=\"color: #00af00; text-decoration-color: #00af00\">56</span>, <span style=\"color: #00af00; text-decoration-color: #00af00\">56</span>, <span style=\"color: #00af00; text-decoration-color: #00af00\">256</span>)         │         <span style=\"color: #00af00; text-decoration-color: #00af00\">590,080</span> │\n",
              "├──────────────────────────────────────┼─────────────────────────────┼─────────────────┤\n",
              "│ block3_pool (<span style=\"color: #0087ff; text-decoration-color: #0087ff\">MaxPooling2D</span>)           │ (<span style=\"color: #00d7ff; text-decoration-color: #00d7ff\">None</span>, <span style=\"color: #00af00; text-decoration-color: #00af00\">28</span>, <span style=\"color: #00af00; text-decoration-color: #00af00\">28</span>, <span style=\"color: #00af00; text-decoration-color: #00af00\">256</span>)         │               <span style=\"color: #00af00; text-decoration-color: #00af00\">0</span> │\n",
              "├──────────────────────────────────────┼─────────────────────────────┼─────────────────┤\n",
              "│ block4_conv1 (<span style=\"color: #0087ff; text-decoration-color: #0087ff\">Conv2D</span>)                │ (<span style=\"color: #00d7ff; text-decoration-color: #00d7ff\">None</span>, <span style=\"color: #00af00; text-decoration-color: #00af00\">28</span>, <span style=\"color: #00af00; text-decoration-color: #00af00\">28</span>, <span style=\"color: #00af00; text-decoration-color: #00af00\">512</span>)         │       <span style=\"color: #00af00; text-decoration-color: #00af00\">1,180,160</span> │\n",
              "├──────────────────────────────────────┼─────────────────────────────┼─────────────────┤\n",
              "│ block4_conv2 (<span style=\"color: #0087ff; text-decoration-color: #0087ff\">Conv2D</span>)                │ (<span style=\"color: #00d7ff; text-decoration-color: #00d7ff\">None</span>, <span style=\"color: #00af00; text-decoration-color: #00af00\">28</span>, <span style=\"color: #00af00; text-decoration-color: #00af00\">28</span>, <span style=\"color: #00af00; text-decoration-color: #00af00\">512</span>)         │       <span style=\"color: #00af00; text-decoration-color: #00af00\">2,359,808</span> │\n",
              "├──────────────────────────────────────┼─────────────────────────────┼─────────────────┤\n",
              "│ block4_conv3 (<span style=\"color: #0087ff; text-decoration-color: #0087ff\">Conv2D</span>)                │ (<span style=\"color: #00d7ff; text-decoration-color: #00d7ff\">None</span>, <span style=\"color: #00af00; text-decoration-color: #00af00\">28</span>, <span style=\"color: #00af00; text-decoration-color: #00af00\">28</span>, <span style=\"color: #00af00; text-decoration-color: #00af00\">512</span>)         │       <span style=\"color: #00af00; text-decoration-color: #00af00\">2,359,808</span> │\n",
              "├──────────────────────────────────────┼─────────────────────────────┼─────────────────┤\n",
              "│ block4_pool (<span style=\"color: #0087ff; text-decoration-color: #0087ff\">MaxPooling2D</span>)           │ (<span style=\"color: #00d7ff; text-decoration-color: #00d7ff\">None</span>, <span style=\"color: #00af00; text-decoration-color: #00af00\">14</span>, <span style=\"color: #00af00; text-decoration-color: #00af00\">14</span>, <span style=\"color: #00af00; text-decoration-color: #00af00\">512</span>)         │               <span style=\"color: #00af00; text-decoration-color: #00af00\">0</span> │\n",
              "├──────────────────────────────────────┼─────────────────────────────┼─────────────────┤\n",
              "│ block5_conv1 (<span style=\"color: #0087ff; text-decoration-color: #0087ff\">Conv2D</span>)                │ (<span style=\"color: #00d7ff; text-decoration-color: #00d7ff\">None</span>, <span style=\"color: #00af00; text-decoration-color: #00af00\">14</span>, <span style=\"color: #00af00; text-decoration-color: #00af00\">14</span>, <span style=\"color: #00af00; text-decoration-color: #00af00\">512</span>)         │       <span style=\"color: #00af00; text-decoration-color: #00af00\">2,359,808</span> │\n",
              "├──────────────────────────────────────┼─────────────────────────────┼─────────────────┤\n",
              "│ block5_conv2 (<span style=\"color: #0087ff; text-decoration-color: #0087ff\">Conv2D</span>)                │ (<span style=\"color: #00d7ff; text-decoration-color: #00d7ff\">None</span>, <span style=\"color: #00af00; text-decoration-color: #00af00\">14</span>, <span style=\"color: #00af00; text-decoration-color: #00af00\">14</span>, <span style=\"color: #00af00; text-decoration-color: #00af00\">512</span>)         │       <span style=\"color: #00af00; text-decoration-color: #00af00\">2,359,808</span> │\n",
              "├──────────────────────────────────────┼─────────────────────────────┼─────────────────┤\n",
              "│ block5_conv3 (<span style=\"color: #0087ff; text-decoration-color: #0087ff\">Conv2D</span>)                │ (<span style=\"color: #00d7ff; text-decoration-color: #00d7ff\">None</span>, <span style=\"color: #00af00; text-decoration-color: #00af00\">14</span>, <span style=\"color: #00af00; text-decoration-color: #00af00\">14</span>, <span style=\"color: #00af00; text-decoration-color: #00af00\">512</span>)         │       <span style=\"color: #00af00; text-decoration-color: #00af00\">2,359,808</span> │\n",
              "├──────────────────────────────────────┼─────────────────────────────┼─────────────────┤\n",
              "│ block5_pool (<span style=\"color: #0087ff; text-decoration-color: #0087ff\">MaxPooling2D</span>)           │ (<span style=\"color: #00d7ff; text-decoration-color: #00d7ff\">None</span>, <span style=\"color: #00af00; text-decoration-color: #00af00\">7</span>, <span style=\"color: #00af00; text-decoration-color: #00af00\">7</span>, <span style=\"color: #00af00; text-decoration-color: #00af00\">512</span>)           │               <span style=\"color: #00af00; text-decoration-color: #00af00\">0</span> │\n",
              "├──────────────────────────────────────┼─────────────────────────────┼─────────────────┤\n",
              "│ flatten (<span style=\"color: #0087ff; text-decoration-color: #0087ff\">Flatten</span>)                    │ (<span style=\"color: #00d7ff; text-decoration-color: #00d7ff\">None</span>, <span style=\"color: #00af00; text-decoration-color: #00af00\">25088</span>)               │               <span style=\"color: #00af00; text-decoration-color: #00af00\">0</span> │\n",
              "├──────────────────────────────────────┼─────────────────────────────┼─────────────────┤\n",
              "│ fc1 (<span style=\"color: #0087ff; text-decoration-color: #0087ff\">Dense</span>)                          │ (<span style=\"color: #00d7ff; text-decoration-color: #00d7ff\">None</span>, <span style=\"color: #00af00; text-decoration-color: #00af00\">4096</span>)                │     <span style=\"color: #00af00; text-decoration-color: #00af00\">102,764,544</span> │\n",
              "├──────────────────────────────────────┼─────────────────────────────┼─────────────────┤\n",
              "│ fc2 (<span style=\"color: #0087ff; text-decoration-color: #0087ff\">Dense</span>)                          │ (<span style=\"color: #00d7ff; text-decoration-color: #00d7ff\">None</span>, <span style=\"color: #00af00; text-decoration-color: #00af00\">4096</span>)                │      <span style=\"color: #00af00; text-decoration-color: #00af00\">16,781,312</span> │\n",
              "├──────────────────────────────────────┼─────────────────────────────┼─────────────────┤\n",
              "│ predictions (<span style=\"color: #0087ff; text-decoration-color: #0087ff\">Dense</span>)                  │ (<span style=\"color: #00d7ff; text-decoration-color: #00d7ff\">None</span>, <span style=\"color: #00af00; text-decoration-color: #00af00\">1000</span>)                │       <span style=\"color: #00af00; text-decoration-color: #00af00\">4,097,000</span> │\n",
              "└──────────────────────────────────────┴─────────────────────────────┴─────────────────┘\n",
              "</pre>\n"
            ]
          },
          "metadata": {}
        },
        {
          "output_type": "display_data",
          "data": {
            "text/plain": [
              "\u001b[1m Total params: \u001b[0m\u001b[38;5;34m138,357,544\u001b[0m (527.79 MB)\n"
            ],
            "text/html": [
              "<pre style=\"white-space:pre;overflow-x:auto;line-height:normal;font-family:Menlo,'DejaVu Sans Mono',consolas,'Courier New',monospace\"><span style=\"font-weight: bold\"> Total params: </span><span style=\"color: #00af00; text-decoration-color: #00af00\">138,357,544</span> (527.79 MB)\n",
              "</pre>\n"
            ]
          },
          "metadata": {}
        },
        {
          "output_type": "display_data",
          "data": {
            "text/plain": [
              "\u001b[1m Trainable params: \u001b[0m\u001b[38;5;34m138,357,544\u001b[0m (527.79 MB)\n"
            ],
            "text/html": [
              "<pre style=\"white-space:pre;overflow-x:auto;line-height:normal;font-family:Menlo,'DejaVu Sans Mono',consolas,'Courier New',monospace\"><span style=\"font-weight: bold\"> Trainable params: </span><span style=\"color: #00af00; text-decoration-color: #00af00\">138,357,544</span> (527.79 MB)\n",
              "</pre>\n"
            ]
          },
          "metadata": {}
        },
        {
          "output_type": "display_data",
          "data": {
            "text/plain": [
              "\u001b[1m Non-trainable params: \u001b[0m\u001b[38;5;34m0\u001b[0m (0.00 B)\n"
            ],
            "text/html": [
              "<pre style=\"white-space:pre;overflow-x:auto;line-height:normal;font-family:Menlo,'DejaVu Sans Mono',consolas,'Courier New',monospace\"><span style=\"font-weight: bold\"> Non-trainable params: </span><span style=\"color: #00af00; text-decoration-color: #00af00\">0</span> (0.00 B)\n",
              "</pre>\n"
            ]
          },
          "metadata": {}
        }
      ]
    },
    {
      "cell_type": "code",
      "source": [
        "model=keras.models.Sequential()\n",
        "model.add(conv_base)\n",
        "model.add(layers.Flatten())\n",
        "model.add(layers.Dense(256,activation='relu'))\n",
        "model.add(layers.Dense(1,activation='sigmoid'))"
      ],
      "metadata": {
        "id": "RRjVHyQ_g6AG"
      },
      "execution_count": null,
      "outputs": []
    },
    {
      "cell_type": "code",
      "source": [
        "conv_base.trainable=False"
      ],
      "metadata": {
        "id": "Y_PVrFl3g7PZ"
      },
      "execution_count": null,
      "outputs": []
    },
    {
      "cell_type": "code",
      "source": [
        "#generators\n",
        "train_ds=keras.utils.image_dataset_from_directory(\n",
        "    directory='/content/data',\n",
        "    labels='inferred',\n",
        "    label_mode='int',\n",
        "    batch_size=32,\n",
        "    image_size=(224,224)\n",
        ")"
      ],
      "metadata": {
        "colab": {
          "base_uri": "https://localhost:8080/"
        },
        "id": "UcMB9sabg9s8",
        "outputId": "a10172ac-66b7-49be-9916-da6fc52fddce"
      },
      "execution_count": null,
      "outputs": [
        {
          "output_type": "stream",
          "name": "stdout",
          "text": [
            "Found 7553 files belonging to 2 classes.\n"
          ]
        }
      ]
    },
    {
      "cell_type": "code",
      "source": [
        "validation_ds=keras.utils.image_dataset_from_directory(\n",
        "directory='/content/data',\n",
        "    labels='inferred',\n",
        "    label_mode='int',\n",
        "    batch_size=32,\n",
        "    image_size=(224,224)\n",
        ")"
      ],
      "metadata": {
        "colab": {
          "base_uri": "https://localhost:8080/"
        },
        "id": "v2-QSfKnhAcz",
        "outputId": "985f822a-134b-4543-8944-0aa9c1eab0a9"
      },
      "execution_count": null,
      "outputs": [
        {
          "output_type": "stream",
          "name": "stdout",
          "text": [
            "Found 7553 files belonging to 2 classes.\n"
          ]
        }
      ]
    },
    {
      "cell_type": "code",
      "source": [
        "#Normalize\n",
        "def process(image,label):\n",
        "  image=tensorflow.cast(image/255.0,tensorflow.float32)\n",
        "  return image,label\n",
        "train_ds=train_ds.map(process)\n",
        "validation_ds=validation_ds.map(process)"
      ],
      "metadata": {
        "id": "ovZdMNQhhDkd"
      },
      "execution_count": null,
      "outputs": []
    },
    {
      "cell_type": "code",
      "source": [
        "model.compile(optimizer='adam',loss='binary_crossentropy',metrics=['accuracy'])"
      ],
      "metadata": {
        "id": "l2hKW0K3hGHv"
      },
      "execution_count": null,
      "outputs": []
    },
    {
      "cell_type": "code",
      "source": [
        "! ls"
      ],
      "metadata": {
        "colab": {
          "base_uri": "https://localhost:8080/"
        },
        "id": "_17jb3BO9nNt",
        "outputId": "dffe92c6-ea72-4306-e871-3762498bd80b"
      },
      "execution_count": null,
      "outputs": [
        {
          "output_type": "stream",
          "name": "stdout",
          "text": [
            "data  face-mask-dataset.zip  sample_data\n"
          ]
        }
      ]
    },
    {
      "cell_type": "code",
      "source": [
        "# Importing the dependencies\n",
        "import cv2\n",
        "import numpy as np\n",
        "import matplotlib.pyplot as plt\n",
        "import matplotlib.image as mpimg\n",
        "from google.colab.patches import cv2_imshow\n",
        "# Import the os module: This module provides functions for interacting with the operating system, including reading directory contents.\n",
        "import os\n"
      ],
      "metadata": {
        "id": "pt9AKM8t9qhw"
      },
      "execution_count": null,
      "outputs": []
    },
    {
      "cell_type": "code",
      "source": [
        " # List files in the specified directory\n",
        "with_mask_files=os.listdir('/content/data/with_mask')\n",
        "# Print the number of files\n",
        "print(len(with_mask_files))\n",
        "# Print the first 5 files in the directory\n",
        "print(with_mask_files[0:5])\n",
        "\n"
      ],
      "metadata": {
        "colab": {
          "base_uri": "https://localhost:8080/"
        },
        "id": "GW_78h8m_auv",
        "outputId": "57b634d1-a16d-4ada-981a-4c6b153da353"
      },
      "execution_count": null,
      "outputs": [
        {
          "output_type": "stream",
          "name": "stdout",
          "text": [
            "3725\n",
            "['with_mask_3705.jpg', 'with_mask_2231.jpg', 'with_mask_2929.jpg', 'with_mask_959.jpg', 'with_mask_933.jpg']\n"
          ]
        }
      ]
    },
    {
      "cell_type": "code",
      "source": [
        "without_mask_files=os.listdir('/content/data/without_mask')\n",
        "print(len(without_mask_files))\n",
        "print(without_mask_files[0:5])"
      ],
      "metadata": {
        "colab": {
          "base_uri": "https://localhost:8080/"
        },
        "id": "Ufx97-ftAleG",
        "outputId": "af84fec2-065e-47bc-86c2-df3275715d80"
      },
      "execution_count": null,
      "outputs": [
        {
          "output_type": "stream",
          "name": "stdout",
          "text": [
            "3828\n",
            "['without_mask_664.jpg', 'without_mask_2698.jpg', 'without_mask_2971.jpg', 'without_mask_3274.jpg', 'without_mask_635.jpg']\n"
          ]
        }
      ]
    },
    {
      "cell_type": "markdown",
      "source": [
        "Creating Labels for the two classes of images"
      ],
      "metadata": {
        "id": "Bhl25D3oHl8G"
      }
    },
    {
      "cell_type": "code",
      "source": [
        "\n",
        "# with mask->1\n",
        "# without mask->0\n",
        "with_mask_labels=[1]*3725 # This creates a list with 3725 ones.\n",
        "without_mask_labels=[0]*3828 # This creates a list with 3828 zeros.\n",
        "\n"
      ],
      "metadata": {
        "id": "Pz6Ez7mgD7x4"
      },
      "execution_count": null,
      "outputs": []
    },
    {
      "cell_type": "code",
      "source": [
        "print(with_mask_labels[0:5])\n",
        "print(without_mask_labels[0:5])"
      ],
      "metadata": {
        "colab": {
          "base_uri": "https://localhost:8080/"
        },
        "id": "USI47sy8I13o",
        "outputId": "c7b792e6-8a6d-4ea1-b166-068f0446da5c"
      },
      "execution_count": null,
      "outputs": [
        {
          "output_type": "stream",
          "name": "stdout",
          "text": [
            "[1, 1, 1, 1, 1]\n",
            "[0, 0, 0, 0, 0]\n"
          ]
        }
      ]
    },
    {
      "cell_type": "code",
      "source": [
        "print(len(with_mask_labels))\n",
        "print(len(without_mask_labels))"
      ],
      "metadata": {
        "colab": {
          "base_uri": "https://localhost:8080/"
        },
        "id": "Mlb4isA9JUzo",
        "outputId": "9d03ca44-11f4-466b-b35f-74afb3d82e03"
      },
      "execution_count": null,
      "outputs": [
        {
          "output_type": "stream",
          "name": "stdout",
          "text": [
            "3725\n",
            "3828\n"
          ]
        }
      ]
    },
    {
      "cell_type": "code",
      "source": [
        "labels=with_mask_labels+without_mask_labels\n",
        "print(len(labels))"
      ],
      "metadata": {
        "colab": {
          "base_uri": "https://localhost:8080/"
        },
        "id": "SmGZddVSEqVF",
        "outputId": "4f586f09-793b-4835-bd50-490c46510559"
      },
      "execution_count": null,
      "outputs": [
        {
          "output_type": "stream",
          "name": "stdout",
          "text": [
            "7553\n"
          ]
        }
      ]
    },
    {
      "cell_type": "markdown",
      "source": [
        "Displaying the Images"
      ],
      "metadata": {
        "id": "ME6hyWFJJwCe"
      }
    },
    {
      "cell_type": "code",
      "source": [
        "#Displaying with mask image\n",
        "img1=cv2.imread('/content/data/with_mask/with_mask_2613.jpg')\n",
        "cv2_imshow(img1)\n",
        "print(img1.shape)\n",
        "img2=cv2.imread('/content/data/with_mask/with_mask_365.jpg')\n",
        "cv2_imshow(img2)\n",
        "print(img2.shape)\n",
        "#Displaying without mask image\n",
        "img3=cv2.imread('/content/data/without_mask/without_mask_3355.jpg')\n",
        "cv2_imshow(img3)\n",
        "print(img3.shape)\n",
        "img4=cv2.imread('/content/data/without_mask/without_mask_3175.jpg')\n",
        "cv2_imshow(img4)\n",
        "print(img4.shape)\n"
      ],
      "metadata": {
        "colab": {
          "base_uri": "https://localhost:8080/",
          "height": 642
        },
        "id": "U5SF8jSYE2Y2",
        "outputId": "aa1d5038-9a4a-418c-fceb-c9273faa9e57"
      },
      "execution_count": null,
      "outputs": [
        {
          "output_type": "display_data",
          "data": {
            "text/plain": [
              "<PIL.Image.Image image mode=RGB size=275x183>"
            ],
            "image/png": "[encoded data removed]",
            "image/jpeg": "[encoded data removed]"
          },
          "metadata": {}
        },
        {
          "output_type": "stream",
          "name": "stdout",
          "text": [
            "(183, 275, 3)\n"
          ]
        },
        {
          "output_type": "display_data",
          "data": {
            "text/plain": [
              "<PIL.Image.Image image mode=RGB size=75x101>"
            ],
            "image/png": "[encoded data removed]",
            "image/jpeg": "[encoded data removed]"
          },
          "metadata": {}
        },
        {
          "output_type": "stream",
          "name": "stdout",
          "text": [
            "(101, 75, 3)\n"
          ]
        },
        {
          "output_type": "display_data",
          "data": {
            "text/plain": [
              "<PIL.Image.Image image mode=RGB size=155x136>"
            ],
            "image/png": "[encoded data removed]",
            "image/jpeg": "[encoded data removed]"
          },
          "metadata": {}
        },
        {
          "output_type": "stream",
          "name": "stdout",
          "text": [
            "(136, 155, 3)\n"
          ]
        },
        {
          "output_type": "display_data",
          "data": {
            "text/plain": [
              "<PIL.Image.Image image mode=RGB size=153x134>"
            ],
            "image/png": "[encoded data removed]",
            "image/jpeg": "[encoded data removed]"
          },
          "metadata": {}
        },
        {
          "output_type": "stream",
          "name": "stdout",
          "text": [
            "(134, 153, 3)\n"
          ]
        }
      ]
    },
    {
      "cell_type": "markdown",
      "source": [
        "Image Preprocessing"
      ],
      "metadata": {
        "id": "AXa0FxWNKRTH"
      }
    },
    {
      "cell_type": "code",
      "source": [
        "\n",
        "#[1] image resizing\n",
        "#[2] convert the images to numpy array\n",
        "data=[]\n",
        "without_mask_path='/content/data/without_mask/'\n",
        "for img_file in without_mask_files:\n",
        "  image=cv2.imread(without_mask_path+img_file)\n",
        "  image=cv2.resize(image,(128,128))\n",
        "  gray_scale_image=cv2.cvtColor(image,cv2.COLOR_RGB2GRAY)\n",
        "  image=np.array(gray_scale_image)\n",
        "  data.append(image)\n",
        "\n",
        "with_mask_path='/content/data/with_mask/'\n",
        "for img_file in with_mask_files:\n",
        "  image=cv2.imread(with_mask_path+img_file)\n",
        "  image=cv2.resize(image,(128,128))\n",
        "  gray_scale_image=cv2.cvtColor(image,cv2.COLOR_RGB2GRAY)\n",
        "  image=np.array(gray_scale_image)\n",
        "  data.append(image)\n",
        "\n",
        "\n",
        "\n",
        "\n",
        "\n",
        "\n",
        "\n",
        "\n",
        "\n",
        "\n",
        "\n",
        "\n",
        "\n",
        "\n",
        "\n",
        "\n",
        "\n",
        "\n",
        "\n",
        "\n",
        "\n",
        "\n",
        "\n",
        "\n",
        "\n",
        "\n",
        "\n",
        "\n",
        "\n",
        "\n"
      ],
      "metadata": {
        "id": "4Qk9gAgeGp1b"
      },
      "execution_count": null,
      "outputs": []
    },
    {
      "cell_type": "code",
      "source": [
        "type(data)\n",
        "\n"
      ],
      "metadata": {
        "colab": {
          "base_uri": "https://localhost:8080/"
        },
        "id": "gCVTZmm6PYel",
        "outputId": "b0779e4e-5bf4-4aa5-fdad-31888b3a7153"
      },
      "execution_count": null,
      "outputs": [
        {
          "output_type": "execute_result",
          "data": {
            "text/plain": [
              "list"
            ]
          },
          "metadata": {},
          "execution_count": 18
        }
      ]
    },
    {
      "cell_type": "code",
      "source": [
        "len(data)"
      ],
      "metadata": {
        "colab": {
          "base_uri": "https://localhost:8080/"
        },
        "id": "wqp7_tpZTwkm",
        "outputId": "59bede91-2418-492e-ada2-d1b81a8d5ee2"
      },
      "execution_count": null,
      "outputs": [
        {
          "output_type": "execute_result",
          "data": {
            "text/plain": [
              "7553"
            ]
          },
          "metadata": {},
          "execution_count": 19
        }
      ]
    },
    {
      "cell_type": "code",
      "source": [
        "data[0]"
      ],
      "metadata": {
        "colab": {
          "base_uri": "https://localhost:8080/",
          "height": 168
        },
        "id": "LY783-qoUH1N",
        "outputId": "14b67cd6-4903-4ff7-e57d-8a53fade6d8a"
      },
      "execution_count": null,
      "outputs": [
        {
          "output_type": "execute_result",
          "data": {
            "text/plain": [
              "array([[255, 255, 253, ..., 255, 255, 255],\n",
              "       [255, 253, 246, ..., 255, 255, 255],\n",
              "       [255, 253, 253, ..., 255, 255, 255],\n",
              "       ...,\n",
              "       [255, 233, 232, ..., 245, 240, 252],\n",
              "       [252, 231, 229, ..., 242, 249, 253],\n",
              "       [252, 254, 255, ..., 254, 253, 255]], dtype=uint8)"
            ],
            "text/html": [
              "<style>\n",
              "      .ndarray_repr .ndarray_raw_data {\n",
              "        display: none;\n",
              "      }\n",
              "      .ndarray_repr.show_array .ndarray_raw_data {\n",
              "        display: block;\n",
              "      }\n",
              "      .ndarray_repr.show_array .ndarray_image_preview {\n",
              "        display: none;\n",
              "      }\n",
              "      </style>\n",
              "      <div id=\"id-dadb83dd-aa65-4833-a12a-ee72099b1290\" class=\"ndarray_repr\"><pre>ndarray (128, 128) <button style=\"padding: 0 2px;\">show data</button></pre><img src=\"data:image/png;base64,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\" class=\"ndarray_image_preview\" /><pre class=\"ndarray_raw_data\">array([[255, 255, 253, ..., 255, 255, 255],\n",
              "       [255, 253, 246, ..., 255, 255, 255],\n",
              "       [255, 253, 253, ..., 255, 255, 255],\n",
              "       ...,\n",
              "       [255, 233, 232, ..., 245, 240, 252],\n",
              "       [252, 231, 229, ..., 242, 249, 253],\n",
              "       [252, 254, 255, ..., 254, 253, 255]], dtype=uint8)</pre></div><script>\n",
              "      (() => {\n",
              "      const titles = ['show data', 'hide data'];\n",
              "      let index = 0\n",
              "      document.querySelector('#id-dadb83dd-aa65-4833-a12a-ee72099b1290 button').onclick = (e) => {\n",
              "        document.querySelector('#id-dadb83dd-aa65-4833-a12a-ee72099b1290').classList.toggle('show_array');\n",
              "        index = (++index) % 2;\n",
              "        document.querySelector('#id-dadb83dd-aa65-4833-a12a-ee72099b1290 button').textContent = titles[index];\n",
              "        e.preventDefault();\n",
              "        e.stopPropagation();\n",
              "      }\n",
              "      })();\n",
              "    </script>"
            ]
          },
          "metadata": {},
          "execution_count": 20
        }
      ]
    },
    {
      "cell_type": "code",
      "source": [
        "type(data[0])"
      ],
      "metadata": {
        "colab": {
          "base_uri": "https://localhost:8080/"
        },
        "id": "Kfekvy0FUUwh",
        "outputId": "e669b948-df71-43f9-d28d-3681db31179c"
      },
      "execution_count": null,
      "outputs": [
        {
          "output_type": "execute_result",
          "data": {
            "text/plain": [
              "numpy.ndarray"
            ]
          },
          "metadata": {},
          "execution_count": 21
        }
      ]
    },
    {
      "cell_type": "code",
      "source": [
        "data[0].shape"
      ],
      "metadata": {
        "colab": {
          "base_uri": "https://localhost:8080/"
        },
        "id": "pZ7_Ohn9gl5J",
        "outputId": "5976e844-27c3-4dd1-aa6b-583a3793c420"
      },
      "execution_count": null,
      "outputs": [
        {
          "output_type": "execute_result",
          "data": {
            "text/plain": [
              "(128, 128)"
            ]
          },
          "metadata": {},
          "execution_count": 22
        }
      ]
    },
    {
      "cell_type": "code",
      "source": [
        "#Converting labels list and data list to numpy arrays\n",
        "X=np.array(data)\n",
        "Y=np.array(labels)"
      ],
      "metadata": {
        "id": "2dsv6In_UkYz"
      },
      "execution_count": null,
      "outputs": []
    },
    {
      "cell_type": "code",
      "source": [
        "len(X)"
      ],
      "metadata": {
        "colab": {
          "base_uri": "https://localhost:8080/"
        },
        "id": "w7Q6vmDEUwr5",
        "outputId": "4286f26a-2cb7-4748-876d-9da718d3bb43"
      },
      "execution_count": null,
      "outputs": [
        {
          "output_type": "execute_result",
          "data": {
            "text/plain": [
              "7553"
            ]
          },
          "metadata": {},
          "execution_count": 24
        }
      ]
    },
    {
      "cell_type": "code",
      "source": [
        "type(X)"
      ],
      "metadata": {
        "colab": {
          "base_uri": "https://localhost:8080/"
        },
        "id": "WA00REpNUzUb",
        "outputId": "593cff9d-3c71-444e-a944-bc13fc3d9812"
      },
      "execution_count": null,
      "outputs": [
        {
          "output_type": "execute_result",
          "data": {
            "text/plain": [
              "numpy.ndarray"
            ]
          },
          "metadata": {},
          "execution_count": 25
        }
      ]
    },
    {
      "cell_type": "code",
      "source": [
        "print(X.shape)"
      ],
      "metadata": {
        "colab": {
          "base_uri": "https://localhost:8080/"
        },
        "id": "zEMYrYiLU-KN",
        "outputId": "9ce6dd31-8d36-4b27-e544-c1f6061db5e7"
      },
      "execution_count": null,
      "outputs": [
        {
          "output_type": "stream",
          "name": "stdout",
          "text": [
            "(7553, 128, 128)\n"
          ]
        }
      ]
    },
    {
      "cell_type": "code",
      "source": [
        "len(Y)"
      ],
      "metadata": {
        "colab": {
          "base_uri": "https://localhost:8080/"
        },
        "id": "LqIKgxivhE2a",
        "outputId": "112b70c9-de82-4458-f865-201a3cbeddbf"
      },
      "execution_count": null,
      "outputs": [
        {
          "output_type": "execute_result",
          "data": {
            "text/plain": [
              "7553"
            ]
          },
          "metadata": {},
          "execution_count": 27
        }
      ]
    },
    {
      "cell_type": "code",
      "source": [
        "type(Y)"
      ],
      "metadata": {
        "colab": {
          "base_uri": "https://localhost:8080/"
        },
        "id": "Ik1Nf5QwhJYj",
        "outputId": "008fd7c7-9c49-45a6-c00c-ac9c804286f0"
      },
      "execution_count": null,
      "outputs": [
        {
          "output_type": "execute_result",
          "data": {
            "text/plain": [
              "numpy.ndarray"
            ]
          },
          "metadata": {},
          "execution_count": 28
        }
      ]
    },
    {
      "cell_type": "code",
      "source": [
        "print(Y.shape)"
      ],
      "metadata": {
        "colab": {
          "base_uri": "https://localhost:8080/"
        },
        "id": "sgYw6zBthRxu",
        "outputId": "f930b6f9-e558-42c4-ffa8-853a2c48ea82"
      },
      "execution_count": null,
      "outputs": [
        {
          "output_type": "stream",
          "name": "stdout",
          "text": [
            "(7553,)\n"
          ]
        }
      ]
    },
    {
      "cell_type": "code",
      "source": [
        "print(X)\n",
        "print(Y)"
      ],
      "metadata": {
        "colab": {
          "base_uri": "https://localhost:8080/"
        },
        "id": "eXK7HZqMi0IA",
        "outputId": "f7737066-5099-45ec-c717-38503bcffb07"
      },
      "execution_count": null,
      "outputs": [
        {
          "output_type": "stream",
          "name": "stdout",
          "text": [
            "[[[255 255 253 ... 255 255 255]\n",
            "  [255 253 246 ... 255 255 255]\n",
            "  [255 253 253 ... 255 255 255]\n",
            "  ...\n",
            "  [255 233 232 ... 245 240 252]\n",
            "  [252 231 229 ... 242 249 253]\n",
            "  [252 254 255 ... 254 253 255]]\n",
            "\n",
            " [[191 194 198 ... 238 238 238]\n",
            "  [182 184 193 ... 238 238 238]\n",
            "  [179 177 175 ... 238 238 238]\n",
            "  ...\n",
            "  [ 25  24  23 ...  50  50  50]\n",
            "  [ 23  22  21 ...  52  51  48]\n",
            "  [ 21  21  20 ...  53  52  50]]\n",
            "\n",
            " [[196 211 214 ... 216 213 197]\n",
            "  [231 245 248 ... 251 247 232]\n",
            "  [226 240 243 ... 245 242 226]\n",
            "  ...\n",
            "  [117  54  61 ... 155 160 151]\n",
            "  [118  54  61 ... 117 124 116]\n",
            "  [105  45  49 ...  75  80  79]]\n",
            "\n",
            " ...\n",
            "\n",
            " [[123 124 123 ... 153 154 155]\n",
            "  [123 125 125 ... 157 157 159]\n",
            "  [126 126 126 ... 160 160 160]\n",
            "  ...\n",
            "  [156 157 156 ...  83  81  80]\n",
            "  [154 155 154 ...  84  81  80]\n",
            "  [152 152 152 ...  82  81  80]]\n",
            "\n",
            " [[ 92  79  92 ...  88  91  87]\n",
            "  [ 90  79  80 ...  86 101  84]\n",
            "  [107  86  71 ...  77  67  82]\n",
            "  ...\n",
            "  [208 210 208 ... 217 219 220]\n",
            "  [204 206 210 ... 217 218 218]\n",
            "  [207 209 209 ... 216 218 218]]\n",
            "\n",
            " [[165 164 166 ...  95 101 107]\n",
            "  [163 162 164 ...  97 103 108]\n",
            "  [161 160 161 ...  97 103 111]\n",
            "  ...\n",
            "  [186 187 185 ...  94  88  86]\n",
            "  [186 187 185 ...  95  86  84]\n",
            "  [186 187 185 ... 104  85  82]]]\n",
            "[1 1 1 ... 0 0 0]\n"
          ]
        }
      ]
    },
    {
      "cell_type": "code",
      "source": [
        "#Train test split\n",
        "from sklearn.model_selection import train_test_split\n",
        "x_train, x_test, y_train, y_test=train_test_split(X, Y, test_size=0.3, random_state=10)"
      ],
      "metadata": {
        "id": "7UkDRoYEVjQl"
      },
      "execution_count": null,
      "outputs": []
    },
    {
      "cell_type": "code",
      "source": [
        "print(X.shape, x_train.shape, x_test.shape)"
      ],
      "metadata": {
        "colab": {
          "base_uri": "https://localhost:8080/"
        },
        "id": "-2qHsKrzWT0f",
        "outputId": "24a460b5-d490-47c0-a0a4-8583200ab8da"
      },
      "execution_count": null,
      "outputs": [
        {
          "output_type": "stream",
          "name": "stdout",
          "text": [
            "(7553, 128, 128) (5287, 128, 128) (2266, 128, 128)\n"
          ]
        }
      ]
    },
    {
      "cell_type": "code",
      "source": [
        "x_train_scaled=x_train/255\n",
        "x_test_scaled=x_test/255\n"
      ],
      "metadata": {
        "id": "K64D3frZWchg"
      },
      "execution_count": null,
      "outputs": []
    },
    {
      "cell_type": "code",
      "source": [
        "#Building a Convolutional neural network(CNN)\n",
        "import tensorflow as tf\n",
        "from tensorflow.keras import layers, models\n",
        "from tensorflow.keras.callbacks import EarlyStopping\n",
        "\n"
      ],
      "metadata": {
        "id": "GOdsybdwXFYj"
      },
      "execution_count": null,
      "outputs": []
    },
    {
      "cell_type": "code",
      "source": [
        "# Build the CNN model\n",
        "model = models.Sequential()\n",
        "model.add(layers.Conv2D(32, (3, 3), activation='relu', input_shape=(128,128,3)))\n",
        "model.add(layers.MaxPooling2D((2, 2)))\n",
        "model.add(layers.Conv2D(64, (3, 3), activation='relu'))\n",
        "model.add(layers.MaxPooling2D((2, 2)))\n",
        "\n",
        "# Add Dense layers on top\n",
        "model.add(layers.Flatten())\n",
        "model.add(layers.Dense(64, activation='relu'))\n",
        "model.add(layers.Dense(2, activation='sigmoid'))"
      ],
      "metadata": {
        "id": "seswKbU-XaFr",
        "colab": {
          "base_uri": "https://localhost:8080/"
        },
        "outputId": "fbfa5959-aca0-4940-c026-e76904384dc1"
      },
      "execution_count": null,
      "outputs": [
        {
          "output_type": "stream",
          "name": "stderr",
          "text": [
            "/usr/local/lib/python3.10/dist-packages/keras/src/layers/convolutional/base_conv.py:107: UserWarning: Do not pass an `input_shape`/`input_dim` argument to a layer. When using Sequential models, prefer using an `Input(shape)` object as the first layer in the model instead.\n",
            "  super().__init__(activity_regularizer=activity_regularizer, **kwargs)\n"
          ]
        }
      ]
    },
    {
      "cell_type": "code",
      "source": [
        "model.compile(optimizer='adam',loss='sparse_categorical_crossentropy',metrics=['accuracy'])\n"
      ],
      "metadata": {
        "id": "NHNYS9BWVGPE"
      },
      "execution_count": null,
      "outputs": []
    },
    {
      "cell_type": "code",
      "source": [
        "call_back=EarlyStopping(monitor='loss',patience=3,verbose=0,mode='auto')"
      ],
      "metadata": {
        "id": "3Vve3MuSAmcY"
      },
      "execution_count": null,
      "outputs": []
    },
    {
      "cell_type": "code",
      "source": [
        "# Training the neural network\n",
        "history=model.fit(x_train_scaled, y_train,epochs=10,callbacks=call_back)"
      ],
      "metadata": {
        "id": "9Yx6-_OjVSY6"
      },
      "execution_count": null,
      "outputs": []
    },
    {
      "cell_type": "code",
      "source": [
        "# Model evaluation\n",
        "model.evaluate(x_test_scaled,y_test)"
      ],
      "metadata": {
        "colab": {
          "base_uri": "https://localhost:8080/"
        },
        "id": "8BAumtMgZKk3",
        "outputId": "f55f6c4e-f03b-4a00-a7aa-ded38b9af37f"
      },
      "execution_count": null,
      "outputs": [
        {
          "output_type": "stream",
          "name": "stdout",
          "text": [
            "71/71 [==============================] - 9s 128ms/step - loss: 0.4360 - accuracy: 0.9051\n"
          ]
        },
        {
          "output_type": "execute_result",
          "data": {
            "text/plain": [
              "[0.4359554052352905, 0.9051191806793213]"
            ]
          },
          "metadata": {},
          "execution_count": 32
        }
      ]
    },
    {
      "cell_type": "code",
      "source": [
        "#plotting loss and accuracy graphs\n",
        "#1] Accuracy graph\n",
        "#2] loss graph\n",
        "plt.plot(history.history['accuracy'])\n",
        "plt.plot(history.history['val_accuracy'])\n",
        "plt.title('model accuracy')\n",
        "plt.ylabel('accuracy')\n",
        "plt.xlabel('epochs')\n",
        "plt.legend(['training data', 'validation data'], loc='lower right')"
      ],
      "metadata": {
        "colab": {
          "base_uri": "https://localhost:8080/",
          "height": 490
        },
        "id": "O4YY1Xn5ZqvZ",
        "outputId": "1cc63590-6631-4bb6-c3f9-16895eb78cc6"
      },
      "execution_count": null,
      "outputs": [
        {
          "output_type": "execute_result",
          "data": {
            "text/plain": [
              "<matplotlib.legend.Legend at 0x7ec099cc9810>"
            ]
          },
          "metadata": {},
          "execution_count": 34
        },
        {
          "output_type": "display_data",
          "data": {
            "text/plain": [
              "<Figure size 640x480 with 1 Axes>"
            ],
            "image/png": "[encoded data removed]"
          },
          "metadata": {}
        }
      ]
    },
    {
      "cell_type": "code",
      "source": [
        "plt.plot(history.history['loss'])\n",
        "plt.plot(history.history['val_loss'])\n",
        "plt.title('model loss')\n",
        "plt.ylabel('loss')\n",
        "plt.xlabel('epochs')\n",
        "plt.legend(['training data', 'validation data'], loc='lower right')\n",
        "\n"
      ],
      "metadata": {
        "id": "hByGcKWdZ8Mr"
      },
      "execution_count": null,
      "outputs": []
    },
    {
      "cell_type": "code",
      "source": [
        "input_image_path=input('path of the image to be predicted: ')\n",
        "input_image=cv2.imread(input_image_path)\n",
        "cv2_imshow(input_image)\n",
        "print(input_image.shape)\n",
        "cv2.resize(input_image, (128,128))\n",
        "input_image=input_image/255\n",
        "reshape_image=np.reshape(input_image, [1,128,128,3])\n",
        "input_pred=model.predict(reshape_image)\n",
        "pred_label=np.argmax(input_pred)\n",
        "if pred_label==1:\n",
        "  print('The person in the image is wearing a mask')\n",
        "else:\n",
        "  print('The person in the image is not wearing a mask')\n",
        "\n",
        "\n",
        "\n",
        "\n",
        "\n"
      ],
      "metadata": {
        "id": "inKLcBGbfit7"
      },
      "execution_count": null,
      "outputs": []
    },
    {
      "cell_type": "code",
      "source": [
        "from tensorflow.keras.preprocessing.image import ImageDataGenerator, array_to_img, img_to_array, load_img"
      ],
      "metadata": {
        "id": "sCUx1nr92loI"
      },
      "execution_count": null,
      "outputs": []
    },
    {
      "cell_type": "code",
      "source": [
        " # Set batch size\n",
        "batch_size = 16\n",
        "\n",
        "# Data augmentation for training\n",
        "train_datagen = ImageDataGenerator(\n",
        "    rescale=1./255,\n",
        "    shear_range=0.2,\n",
        "    zoom_range=0.2,\n",
        "    horizontal_flip=True\n",
        ")\n",
        "\n",
        "# Data preparation for testing (only rescaling)\n",
        "test_datagen = ImageDataGenerator(rescale=1./255)\n",
        "\n",
        "# Create a generator for training data\n",
        "train_generator = train_datagen.flow_from_directory(\n",
        "    '/content/data/',  # Path to the data directory\n",
        "    target_size=(128, 128),  # Resize images to 150x150\n",
        "    batch_size=batch_size,\n",
        "    class_mode='binary'       # Binary classification (with_mask vs without_mask)\n",
        ")\n",
        "\n",
        "# Create a generator for testing data (you can add a separate test directory if needed)\n",
        "test_generator = test_datagen.flow_from_directory(\n",
        "    '/content/data/',  # Path to the same data directory for testing\n",
        "    target_size=(128, 128),  # Resize images to 150x150\n",
        "    batch_size=batch_size,\n",
        "    class_mode='binary',      # Binary classification\n",
        "    shuffle=False              # Don't shuffle test data\n",
        ")\n"
      ],
      "metadata": {
        "colab": {
          "base_uri": "https://localhost:8080/"
        },
        "id": "uD3FPA0A1NYU",
        "outputId": "80126d5d-4504-486a-b86d-b4303b5894f0"
      },
      "execution_count": null,
      "outputs": [
        {
          "output_type": "stream",
          "name": "stdout",
          "text": [
            "Found 7553 images belonging to 2 classes.\n",
            "Found 7553 images belonging to 2 classes.\n"
          ]
        }
      ]
    },
    {
      "cell_type": "code",
      "source": [
        " # Fit the model\n",
        "history = model.fit(\n",
        "    train_generator,\n",
        "    steps_per_epoch=train_generator.samples // batch_size,\n",
        "    validation_data=test_generator,\n",
        "    validation_steps=test_generator.samples // batch_size,\n",
        "    epochs=10  # Adjust the number of epochs as needed\n",
        ")\n",
        "\n"
      ],
      "metadata": {
        "id": "y76Hn5i21Qra"
      },
      "execution_count": null,
      "outputs": []
    },
    {
      "cell_type": "code",
      "source": [
        "import tensorflow as tf\n",
        "from tensorflow.keras.preprocessing import image\n",
        "from tensorflow.keras.applications.resnet50 import ResNet50\n",
        "from tensorflow.keras.applications.resnet50 import preprocess_input, decode_predictions\n",
        "import numpy as np"
      ],
      "metadata": {
        "id": "i9uOIHIMRjDP"
      },
      "execution_count": null,
      "outputs": []
    },
    {
      "cell_type": "code",
      "source": [
        "model = ResNet50(weights='imagenet')\n",
        "\n",
        "img_path = '/content/data/without_mask/without_mask_3175.jpg'\n",
        "img = image.load_img(img_path, target_size=(224, 224))\n",
        "x = image.img_to_array(img)\n",
        "x = np.expand_dims(x, axis=0)\n",
        "x = preprocess_input(x)"
      ],
      "metadata": {
        "id": "lASrxi1vSAPo"
      },
      "execution_count": null,
      "outputs": []
    },
    {
      "cell_type": "code",
      "source": [
        "preds = model.predict(x)"
      ],
      "metadata": {
        "colab": {
          "base_uri": "https://localhost:8080/"
        },
        "id": "dxPGpOpVSNYl",
        "outputId": "9ad21748-6d53-424f-b987-ac842f8396c8"
      },
      "execution_count": null,
      "outputs": [
        {
          "output_type": "stream",
          "name": "stdout",
          "text": [
            "\u001b[1m1/1\u001b[0m \u001b[32m━━━━━━━━━━━━━━━━━━━━\u001b[0m\u001b[37m\u001b[0m \u001b[1m2s\u001b[0m 2s/step\n"
          ]
        }
      ]
    },
    {
      "cell_type": "code",
      "source": [
        "print('Predicted:',decode_predictions(preds,top=3)[0])"
      ],
      "metadata": {
        "colab": {
          "base_uri": "https://localhost:8080/"
        },
        "id": "VUchX5gBSOcL",
        "outputId": "274a2a76-816e-4a74-c2b6-13a363c1a077"
      },
      "execution_count": null,
      "outputs": [
        {
          "output_type": "stream",
          "name": "stdout",
          "text": [
            "Downloading data from https://storage.googleapis.com/download.tensorflow.org/data/imagenet_class_index.json\n",
            "\u001b[1m35363/35363\u001b[0m \u001b[32m━━━━━━━━━━━━━━━━━━━━\u001b[0m\u001b[37m\u001b[0m \u001b[1m0s\u001b[0m 0us/step\n",
            "Predicted: [('n03814639', 'neck_brace', 0.38947043), ('n03630383', 'lab_coat', 0.13389796), ('n02669723', 'academic_gown', 0.06723188)]\n"
          ]
        }
      ]
    }
  ]
}